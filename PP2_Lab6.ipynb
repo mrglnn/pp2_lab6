{
 "cells": [
  {
   "cell_type": "code",
   "execution_count": 1,
   "id": "bcdeaf05-26e1-46b2-b678-09bfa848dc12",
   "metadata": {},
   "outputs": [
    {
     "name": "stdout",
     "output_type": "stream",
     "text": [
      "24\n"
     ]
    }
   ],
   "source": [
    "#1\n",
    "\n",
    "from functools import reduce\n",
    "import operator\n",
    "\n",
    "def multiply_list(numbers):\n",
    "    return reduce(operator.mul, numbers, 1)\n",
    "\n",
    "print(multiply_list([1, 2, 3, 4]))  \n"
   ]
  },
  {
   "cell_type": "code",
   "execution_count": 3,
   "id": "15a28ab3-c57e-4c8f-8b77-53322f58a0ab",
   "metadata": {},
   "outputs": [
    {
     "name": "stdout",
     "output_type": "stream",
     "text": [
      "(2, 8)\n"
     ]
    }
   ],
   "source": [
    "#2\n",
    "def count_case(s):\n",
    "    upper_count = sum(1 for char in s if char.isupper())\n",
    "    lower_count = sum(1 for char in s if char.islower())\n",
    "    return upper_count, lower_count\n",
    "\n",
    "print(count_case(\"Hello World!\"))  \n"
   ]
  },
  {
   "cell_type": "code",
   "execution_count": 5,
   "id": "5675fbde-be52-448a-8633-540658065acc",
   "metadata": {},
   "outputs": [
    {
     "name": "stdout",
     "output_type": "stream",
     "text": [
      "True\n",
      "False\n"
     ]
    }
   ],
   "source": [
    "#3 \n",
    "def is_palindrome(s):\n",
    "    return s == s[::-1]\n",
    "\n",
    "print(is_palindrome(\"madam\"))  \n",
    "print(is_palindrome(\"hello\"))  \n"
   ]
  },
  {
   "cell_type": "code",
   "execution_count": 7,
   "id": "e634657f-d660-4892-a99f-fc3e3ea2a9cd",
   "metadata": {},
   "outputs": [
    {
     "name": "stdout",
     "output_type": "stream",
     "text": [
      "Square root of 25100 after 2123 milliseconds is 158.42979517754858\n"
     ]
    }
   ],
   "source": [
    "#4\n",
    "import time\n",
    "import math\n",
    "\n",
    "def delayed_sqrt(number, delay_ms):\n",
    "    time.sleep(delay_ms / 1000)  \n",
    "    result = math.sqrt(number)\n",
    "    print(f\"Square root of {number} after {delay_ms} milliseconds is {result}\")\n",
    "\n",
    "delayed_sqrt(25100, 2123)\n"
   ]
  },
  {
   "cell_type": "code",
   "execution_count": 9,
   "id": "1b2c2a98-3002-4073-a33a-0fb0ec992b69",
   "metadata": {},
   "outputs": [
    {
     "name": "stdout",
     "output_type": "stream",
     "text": [
      "True\n",
      "False\n"
     ]
    }
   ],
   "source": [
    "#5\n",
    "def all_true(t):\n",
    "    return all(t)\n",
    "\n",
    "print(all_true((True, True, True)))  \n",
    "print(all_true((True, False, True)))\n"
   ]
  },
  {
   "cell_type": "code",
   "execution_count": 47,
   "id": "ad32d81f-1bb4-4c6d-9e99-17a0554bf5d2",
   "metadata": {},
   "outputs": [
    {
     "name": "stdin",
     "output_type": "stream",
     "text": [
      " /Users/margulanaman/Desktop\n"
     ]
    },
    {
     "name": "stdout",
     "output_type": "stream",
     "text": [
      "['Visual Studio Code.app', 'Linear Algebra', 'pp2_labs', 'PP1 hw', 'English', '.ipynb_checkpoints', 'Calculus']\n",
      "['Снимок экрана 2025-02-01 в 20.00.49.png', '.DS_Store', 'Снимок экрана 2025-02-10 в 22.13.06.png', 'Снимок экрана 2024-10-27 в 18.09.57.png', '.localized', 'Снимок экрана 2025-02-01 в 19.40.40.png', 'Снимок экрана 2024-11-11 в 07.39.13.png', 'Снимок экрана 2025-02-19 в 19.48.56.png', 'Снимок экрана 2025-02-01 в 19.33.59.png', 'Снимок экрана 2025-01-20 в 23.58.00.png', 'Снимок экрана 2025-03-01 в 14.34.43.png', 'Снимок экрана 2025-02-22 в 22.43.43.png', 'Снимок экрана 2025-02-22 в 22.32.40.png', 'Снимок экрана 2025-03-01 в 14.34.50.png', 'Снимок экрана 2025-01-20 в 23.57.54.png', 'Снимок экрана 2025-02-10 в 19.01.59.png', 'Снимок экрана 2025-02-10 в 22.13.09.png', 'Снимок экрана 2025-02-19 в 19.59.47.png', 'Снимок экрана 2025-02-01 в 19.31.16.png', 'Снимок экрана 2025-02-01 в 20.03.38.png', 'Anaconda-Navigator', 'Снимок экрана 2025-02-10 в 22.12.58.png']\n",
      "['Visual Studio Code.app', 'Снимок экрана 2025-02-01 в 20.00.49.png', '.DS_Store', 'Linear Algebra', 'Снимок экрана 2025-02-10 в 22.13.06.png', 'pp2_labs', 'Снимок экрана 2024-10-27 в 18.09.57.png', '.localized', 'Снимок экрана 2025-02-01 в 19.40.40.png', 'Снимок экрана 2024-11-11 в 07.39.13.png', 'Снимок экрана 2025-02-19 в 19.48.56.png', 'PP1 hw', 'Снимок экрана 2025-02-01 в 19.33.59.png', 'Снимок экрана 2025-01-20 в 23.58.00.png', 'English', 'Снимок экрана 2025-03-01 в 14.34.43.png', 'Снимок экрана 2025-02-22 в 22.43.43.png', 'Снимок экрана 2025-02-22 в 22.32.40.png', 'Снимок экрана 2025-03-01 в 14.34.50.png', 'Снимок экрана 2025-01-20 в 23.57.54.png', 'Снимок экрана 2025-02-10 в 19.01.59.png', '.ipynb_checkpoints', 'Снимок экрана 2025-02-10 в 22.13.09.png', 'Снимок экрана 2025-02-19 в 19.59.47.png', 'Снимок экрана 2025-02-01 в 19.31.16.png', 'Снимок экрана 2025-02-01 в 20.03.38.png', 'Calculus', 'Anaconda-Navigator', 'Снимок экрана 2025-02-10 в 22.12.58.png']\n"
     ]
    }
   ],
   "source": [
    "#1\n",
    "\n",
    "import os\n",
    "zhol = input()\n",
    "if os.path.exists(zhol):\n",
    "    bar = os.listdir(zhol)\n",
    "    catalog = []\n",
    "    file = []\n",
    "    for i in bar:\n",
    "        nzhol = os.path.join(zhol, i)\n",
    "        if os.path.isdir(nzhol):\n",
    "            catalog.append(i)\n",
    "        elif os.path.isfile(nzhol):\n",
    "            file.append(i)\n",
    "    print(catalog)\n",
    "    print(file)\n",
    "    print(bar)\n",
    "else:\n",
    "    print(\"Try again\")"
   ]
  },
  {
   "cell_type": "code",
   "execution_count": 53,
   "id": "097df807-e279-42dd-87ab-b151fc6515ef",
   "metadata": {},
   "outputs": [
    {
     "name": "stdin",
     "output_type": "stream",
     "text": [
      " /Users/margulanaman/Desktop\n"
     ]
    },
    {
     "name": "stdout",
     "output_type": "stream",
     "text": [
      "There a road:  True\n",
      "Reading: True\n",
      "Writing: True\n",
      "For do:  True\n"
     ]
    }
   ],
   "source": [
    "#2\n",
    "import os  \n",
    "\n",
    "zhol = input()  \n",
    "\n",
    "\n",
    "print(\"There a road: \", os.access(zhol, os.F_OK))  \n",
    "\n",
    "\n",
    "print(\"Reading:\", os.access(zhol, os.R_OK))  \n",
    "\n",
    "\n",
    "print(\"Writing:\", os.access(zhol, os.W_OK))  \n",
    "\n",
    "\n",
    "print(\"For do: \", os.access(zhol, os.X_OK))  \n",
    "\n"
   ]
  },
  {
   "cell_type": "code",
   "execution_count": 55,
   "id": "c19a060b-38a5-4eb1-8878-86d80e12a738",
   "metadata": {},
   "outputs": [
    {
     "name": "stdin",
     "output_type": "stream",
     "text": [
      " /Users/margulanaman/Desktop\n"
     ]
    },
    {
     "name": "stdout",
     "output_type": "stream",
     "text": [
      "There a correct way\n",
      "Catalog: /Users/margulanaman\n",
      "File: Desktop\n"
     ]
    }
   ],
   "source": [
    "#3\n",
    "import os\n",
    "zhol = input()\n",
    "if os.path.exists(zhol):\n",
    "    catalog, file = os.path.split(zhol)\n",
    "    print(\"There a correct way\")\n",
    "    print(\"Catalog:\", catalog)\n",
    "    print(\"File:\", file)\n",
    "else:\n",
    "    print(\"Try again\")\n"
   ]
  },
  {
   "cell_type": "code",
   "execution_count": 3,
   "id": "d9e50521-7eed-4bab-b65f-5125402828a2",
   "metadata": {},
   "outputs": [
    {
     "name": "stdin",
     "output_type": "stream",
     "text": [
      " /Users/margulanaman/Desktop/pp2_labs/A.txt\n"
     ]
    },
    {
     "name": "stdout",
     "output_type": "stream",
     "text": [
      "This is A.txt\n",
      "\n"
     ]
    }
   ],
   "source": [
    "#4\n",
    "import os\n",
    "\n",
    "zhol = input(\"\")\n",
    "\n",
    "if os.path.exists(zhol):\n",
    "    with open(zhol, \"r\", encoding=\"utf-8\") as doc:\n",
    "        zholdar = doc.readlines()\n",
    "        print((zholdar[0]))\n",
    "else:\n",
    "    print(\"Try again\")\n",
    "\n"
   ]
  },
  {
   "cell_type": "code",
   "execution_count": 5,
   "id": "e0976a0a-191a-4653-92da-2199252b67fa",
   "metadata": {},
   "outputs": [],
   "source": [
    "#5\n",
    "def write_list_to_file(filename, data):\n",
    "    with open(filename, 'w', encoding='utf-8') as file:\n",
    "        file.writelines(\"\\n\".join(data))\n",
    "\n",
    "write_list_to_file(\"output.txt\", [\"Apple\", \"Banana\", \"Cherry\"])\n"
   ]
  },
  {
   "cell_type": "code",
   "execution_count": 24,
   "id": "dc3b1c7a-9a1b-4662-b596-e4bc3867d9c8",
   "metadata": {},
   "outputs": [],
   "source": [
    "#6\n",
    "a = ['A', 'B', 'C', 'D', 'E', 'F', 'G', 'H', 'I', 'J', 'K', 'L', 'M', 'N', 'O', 'P', 'Q', 'R', 'S', 'T', 'U', 'V', 'W', 'X', 'Y', 'Z']\n",
    "for i in a:\n",
    "    name = f\"{i}.txt\"\n",
    "    with open(name, \"w\", encoding = \"utf-8\") as doc:\n",
    "        doc.write(f\"{i} file was created \\n\")\n",
    "    print(\"Succesful\")\n"
   ]
  },
  {
   "cell_type": "code",
   "execution_count": 1,
   "id": "017d9c65-c144-4dc1-8888-005417fe14ed",
   "metadata": {},
   "outputs": [
    {
     "name": "stdin",
     "output_type": "stream",
     "text": [
      " A.txt\n",
      " B.txt\n"
     ]
    },
    {
     "name": "stdout",
     "output_type": "stream",
     "text": [
      "Succesful\n"
     ]
    }
   ],
   "source": [
    "#7\n",
    "import os\n",
    "a = input()\n",
    "b = input()\n",
    "with open(a,\"rb\") as doc:\n",
    "    barlq = doc.read()\n",
    "with open(b,'wb') as doc1:\n",
    "    doc1.write(barlq)\n",
    "print(\"Succesful\")"
   ]
  },
  {
   "cell_type": "code",
   "execution_count": 69,
   "id": "ed749fcc-8454-4583-933a-5712cca5c5c9",
   "metadata": {},
   "outputs": [
    {
     "name": "stdin",
     "output_type": "stream",
     "text": [
      " /Users/margulanaman/Desktop/pp2_labs/test.txt\n"
     ]
    },
    {
     "name": "stdout",
     "output_type": "stream",
     "text": [
      "Succesful\n"
     ]
    }
   ],
   "source": [
    "#8\n",
    "import os\n",
    "a = input()\n",
    "if os.path.exists(a):\n",
    "    if os.access(a,os.W_OK):\n",
    "        os.remove(a)\n",
    "        print(\"Succesful\")\n",
    "    else:\n",
    "        print(\"Try again\")\n",
    "else:\n",
    "    print(\"Try again\")\n"
   ]
  },
  {
   "cell_type": "code",
   "execution_count": null,
   "id": "8156ba86-83f0-4030-99b7-d0fde9189f8a",
   "metadata": {},
   "outputs": [],
   "source": []
  }
 ],
 "metadata": {
  "kernelspec": {
   "display_name": "Python [conda env:base] *",
   "language": "python",
   "name": "conda-base-py"
  },
  "language_info": {
   "codemirror_mode": {
    "name": "ipython",
    "version": 3
   },
   "file_extension": ".py",
   "mimetype": "text/x-python",
   "name": "python",
   "nbconvert_exporter": "python",
   "pygments_lexer": "ipython3",
   "version": "3.12.7"
  }
 },
 "nbformat": 4,
 "nbformat_minor": 5
}
